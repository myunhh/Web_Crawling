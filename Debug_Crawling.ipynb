{
  "nbformat": 4,
  "nbformat_minor": 0,
  "metadata": {
    "colab": {
      "provenance": [],
      "collapsed_sections": [
        "mLw3ipiV42CF",
        "_Y0AyO-LNiDR",
        "BxkW7rx8Olw4",
        "dPcL_0e1hXad"
      ],
      "authorship_tag": "ABX9TyMUewwXsFybHOO6RleNGkpD",
      "include_colab_link": true
    },
    "kernelspec": {
      "name": "python3",
      "display_name": "Python 3"
    },
    "language_info": {
      "name": "python"
    }
  },
  "cells": [
    {
      "cell_type": "markdown",
      "metadata": {
        "id": "view-in-github",
        "colab_type": "text"
      },
      "source": [
        "<a href=\"https://colab.research.google.com/github/tionlab/Web_Crawling/blob/main/Debug_Crawling.ipynb\" target=\"_parent\"><img src=\"https://colab.research.google.com/assets/colab-badge.svg\" alt=\"Open In Colab\"/></a>"
      ]
    },
    {
      "cell_type": "code",
      "execution_count": null,
      "metadata": {
        "id": "YLTUOANm40Iz"
      },
      "outputs": [],
      "source": [
        "\"\"\"\n",
        "      .o.       ooooo      oooooooooo.    o8o                 .             oooo       ooooo                   .o8       \n",
        "     .888.      `888'      `888'   `Y8b   `\"'               .o8             `888       `888'                  \"888       \n",
        "    .8\"888.      888        888      888 oooo   .oooooooo .o888oo  .oooo.    888        888          .oooo.    888oooo.  \n",
        "   .8' `888.     888        888      888 `888  888' `88b    888   `P  )88b   888        888         `P  )88b   d88' `88b \n",
        "  .88ooo8888.    888        888      888  888  888   888    888    .oP\"888   888        888          .oP\"888   888   888 \n",
        " .8'     `888.   888        888     d88'  888  `88bod8P'    888 . d8(  888   888        888       o d8(  888   888   888 \n",
        "o88o     o8888o o888o      o888bood8P'   o888o `8oooooo.    \"888\" `Y888\"\"8o o888o      o888ooooood8 `Y888\"\"8o  `Y8bod8P' \n",
        "                                               d\"     YD                                                                 \n",
        "                                               \"Y88888P'                        \n",
        "\n",
        "                                             Copiright 2022 TATION All right reserved.                                         \n",
        "\"\"\"                                                                                            "
      ]
    },
    {
      "cell_type": "markdown",
      "source": [
        "문제 상황 : 셀레니움을 이용한 웹 크롤링 코드에서 버그가 발생하고 있다.\n",
        "---\n",
        "WHY? 1 : 셀레니움 코드에선 문제가 없으나, 크롬드라이버와의 호환성의 문제로 판단된다.  \n",
        "해결법 1 : 다른 브라우저 드라이버를 이용한다.  \n",
        "해결법 2 : 맞는 버전을 찾아 끼운다.  \n",
        "해결법 3 : 셀레니움이 아닌 다른 라이브러리를 사용한다.    \n",
        "  \n",
        "WHY? 2 : 셀레니움의 업데이트로 인해 많은 함수를 deprecated 시켜두었다.  \n",
        "해결법 1 : 기존 코드를 최근 변경사항에 맞도록 변경시켜줘야 한다."
      ],
      "metadata": {
        "id": "mLw3ipiV42CF"
      }
    },
    {
      "cell_type": "code",
      "source": [
        "# ! 필요 라이브러리 및 드라이버 설치\n",
        "\n",
        "# * Selenium Install\n",
        "!pip install -U selenium\n",
        "# * FireFox Driver Install\n",
        "!apt-get update\n",
        "!pip install selenium\n",
        "!apt install firefox-geckodriver\n",
        "!cp /usr/lib/geckodriver /usr/bin\n",
        "!cp /usr/lib/firefox /usr/bin\n",
        "# * ChromeDriver Install\n",
        "!apt install chromium-chromedriver\n",
        "# * icrawler Install\n",
        "!pip install icrawler\n",
        "# * pathlib Install\n",
        "!pip install pathlib\n",
        "\n",
        "# ! Plz! Console! Get Away!\n",
        "def cls():\n",
        "    from google.colab import output\n",
        "    output.clear()\n",
        "\n",
        "# * I hate messy console (optional)\n",
        "cls()"
      ],
      "metadata": {
        "id": "rCHp_ir38kdi"
      },
      "execution_count": null,
      "outputs": []
    },
    {
      "cell_type": "code",
      "source": [
        "# ! 필요 라이브러리 추가\n",
        "from selenium import webdriver\n",
        "import urllib \n",
        "from bs4 import BeautifulSoup as bs\n",
        "from selenium.webdriver.common.keys import Keys\n",
        "import time\n",
        "import os\n",
        "import subprocess\n",
        "from selenium.webdriver.firefox.options import Options as FF_Options\n",
        "from selenium.webdriver.common.by import By\n",
        "from icrawler.builtin import GoogleImageCrawler\n",
        "from pathlib import Path\n",
        "import os.path\n",
        "import shutil\n",
        "from os import path\n",
        "from google.colab import files\n"
      ],
      "metadata": {
        "id": "doyGRMPlAL3j"
      },
      "execution_count": null,
      "outputs": []
    },
    {
      "cell_type": "markdown",
      "source": [
        "## **해결법 1  : 다른 브라우저 드라이버를 이용한다.** \n",
        "\n",
        "1. 필요 변수 선언  \n",
        "2. 함수 생성\n",
        "3. 실행 및 저장\n",
        "4. 별도 드라이브 저장 (선택)"
      ],
      "metadata": {
        "id": "_Y0AyO-LNiDR"
      }
    },
    {
      "cell_type": "code",
      "source": [
        "# ! 해결법 1 : 다른 브라우저 드라이버를 이용한다.\n",
        "\n",
        "# * FireFox 드라이버 사용 (자잘한 업데이트가 없어 버그날 확률이 적다)\n",
        "FF_binary = '/usr/bin/firefox'\n",
        "FF_options = FF_Options()\n",
        "FF_options.binary = FF_binary\n",
        "FF_options.add_argument('start-maximized')\n",
        "FF_options.add_argument('--headless')\n",
        "FF_driver = webdriver.Firefox(options=FF_options, executable_path='/usr/bin/geckodriver')\n",
        "\n",
        "# * I hate messy console (optional)\n",
        "cls()"
      ],
      "metadata": {
        "id": "-aePHSkI5Avb"
      },
      "execution_count": null,
      "outputs": []
    },
    {
      "cell_type": "code",
      "source": [
        "# * FireFox 이미지 크롤링 함수 생성\n",
        "def FF_imageDown(keyword):\n",
        "    print(\"준비중 입니다...\")\n",
        "    url = f'https://www.google.com.br/search?q={keyword}&source=lnms&tbm=isch'\n",
        "    FF_driver.get(url)\n",
        "\n",
        "    body = FF_driver.find_element(By.CSS_SELECTOR, 'body')\n",
        "    \n",
        "    print(\"수집중 입니다...\")\n",
        "\n",
        "    # 페이지 다운시켜서 더 많은 이미지가 나오게 한다\n",
        "    for i in range(30):\n",
        "        body.send_keys(Keys.PAGE_DOWN)\n",
        "        time.sleep(0.5) # 한번 드래그 후 sleep\n",
        "\n",
        "    print(\"저장중 입니다...\")\n",
        "\n",
        "    imgs = FF_driver.find_elements(By.CSS_SELECTOR, 'img.rg_i')\n",
        "    os.makedirs(\"FF_Crawling\", exist_ok=True) # 파일 초기 생성\n",
        "    shutil.rmtree(\"FF_Crawling\") # 파일 초기화\n",
        "    os.makedirs(\"FF_Crawling\", exist_ok=True) # 파일 재생성\n",
        "    time.sleep(10)\n",
        "    for idx, img in enumerate(imgs):\n",
        "        imgUrl = img.get_attribute('src')\n",
        "        if imgUrl == None:\n",
        "            break\n",
        "        imgName = f'./FF_Crawling/{keyword+str(idx)}.jpg'\n",
        "        urllib.request.urlretrieve(imgUrl, imgName)\n",
        "\n",
        "# * I hate messy console (optional)\n",
        "cls()"
      ],
      "metadata": {
        "id": "hvH36TaKHLie"
      },
      "execution_count": null,
      "outputs": []
    },
    {
      "cell_type": "code",
      "source": [
        "# * FireFox 드라이버를 사용한 크롤링 테스트\n",
        "FF_keyword = input('검색어를 입력하세요 : ') # 키워드 설정\n",
        "FF_imageDown(FF_keyword)\n",
        "# * 다운받은 파일은 앞축하여 한번에 다운받아야 편합니다.\n",
        "keyword = FF_keyword\n",
        "command = f\"zip -r /content/FF_Crawling.zip /content/FF_Crawling\"\n",
        "subprocess.run(command.split(), capture_output=True)\n",
        "\n",
        "# * I hate messy console (optional)\n",
        "cls()\n",
        "\n",
        "\n",
        "files.download(\"FF_Crawling.zip\")"
      ],
      "metadata": {
        "colab": {
          "base_uri": "https://localhost:8080/",
          "height": 17
        },
        "id": "rgUu32HlLR_z",
        "outputId": "dccc28c7-f918-4a15-96e1-1bbccab34f30"
      },
      "execution_count": null,
      "outputs": [
        {
          "output_type": "display_data",
          "data": {
            "text/plain": [
              "<IPython.core.display.Javascript object>"
            ],
            "application/javascript": [
              "\n",
              "    async function download(id, filename, size) {\n",
              "      if (!google.colab.kernel.accessAllowed) {\n",
              "        return;\n",
              "      }\n",
              "      const div = document.createElement('div');\n",
              "      const label = document.createElement('label');\n",
              "      label.textContent = `Downloading \"${filename}\": `;\n",
              "      div.appendChild(label);\n",
              "      const progress = document.createElement('progress');\n",
              "      progress.max = size;\n",
              "      div.appendChild(progress);\n",
              "      document.body.appendChild(div);\n",
              "\n",
              "      const buffers = [];\n",
              "      let downloaded = 0;\n",
              "\n",
              "      const channel = await google.colab.kernel.comms.open(id);\n",
              "      // Send a message to notify the kernel that we're ready.\n",
              "      channel.send({})\n",
              "\n",
              "      for await (const message of channel.messages) {\n",
              "        // Send a message to notify the kernel that we're ready.\n",
              "        channel.send({})\n",
              "        if (message.buffers) {\n",
              "          for (const buffer of message.buffers) {\n",
              "            buffers.push(buffer);\n",
              "            downloaded += buffer.byteLength;\n",
              "            progress.value = downloaded;\n",
              "          }\n",
              "        }\n",
              "      }\n",
              "      const blob = new Blob(buffers, {type: 'application/binary'});\n",
              "      const a = document.createElement('a');\n",
              "      a.href = window.URL.createObjectURL(blob);\n",
              "      a.download = filename;\n",
              "      div.appendChild(a);\n",
              "      a.click();\n",
              "      div.remove();\n",
              "    }\n",
              "  "
            ]
          },
          "metadata": {}
        },
        {
          "output_type": "display_data",
          "data": {
            "text/plain": [
              "<IPython.core.display.Javascript object>"
            ],
            "application/javascript": [
              "download(\"download_193ae2da-6586-4b3a-bbce-e55e70c5d9df\", \"FF_Crawling.zip\", 517553)"
            ]
          },
          "metadata": {}
        }
      ]
    },
    {
      "cell_type": "code",
      "source": [
        "# ! 작업 내용 드라이브에 저장하기! (실행한 해결법의 저장코드만 실행시키고, 이외 코드는 주석처리(줄선택 -> Ctrl+/)하여 실행되지 않도록 하세요.)\n",
        "\n",
        "from google.colab import drive\n",
        "drive.mount('/content/drive')\n",
        "!cp -r \"/content/FF_Crawling.zip\" \"/content/drive/MyDrive/TionLabs_Crawling_Save\" # * FireFox 드라이버 해결법 다운로드\n",
        "\n",
        "cls()"
      ],
      "metadata": {
        "id": "ale-wuvRHPP-",
        "colab": {
          "base_uri": "https://localhost:8080/"
        },
        "outputId": "ca29998e-d1c7-4b96-bca8-97728e9ea259"
      },
      "execution_count": null,
      "outputs": [
        {
          "output_type": "stream",
          "name": "stdout",
          "text": [
            "Mounted at /content/drive\n"
          ]
        }
      ]
    },
    {
      "cell_type": "markdown",
      "source": [
        "## **해결법 2 : 맞는 버전을 찾아 끼운다.** \n",
        " \n",
        "수많은 시행착오를 거쳤으나, 그다지 좋은 결과를 보지 못하였고,   \n",
        "Colab 환경에선 Chrome 드라이버를 사용하기엔 힘들것 같다.   \n",
        "StackoverFlow 2개월전 게시글에 따르면 이를 Colab system이  \n",
        "ubuntu 18.04에서 20.04로 업데이트하면서 생긴 오류라고 보고 있으며,   \n",
        "이를 해결하기 위해 우분투 환경변수를 임의로 수정하여 버그를 수정하려고 한다.  \n",
        "하지만 이 방법은 상당히 복잡하였으며, 오히려 이러한 과정이 상황을 악화시킨다는 느낌을 받아서   \n",
        "오류가 해결되거나, 이번 우분투 환경에서 작동하는 예제 코드가 나오기 전까진  \n",
        "현재 Colab 환경에선 Chrome 드라이브를 활용하여 크롤링하기엔 어려울것 같다. [해당 Stackoverflow 게시글](https://stackoverflow.com/questions/75155063/selenium-use-chrome-on-colab-got-unexpectedly-exited)\n",
        "\n",
        "요약 :  현재 Colab에서의 Chrome 드라이버 사용은 어려우며, 이를 수정하기엔 너무 복잡하고 악화시킬 가능성이 있기 때문에 대안이 나오기 전까지 어려울것 같다. 크롬 드라이버 쓰려면 Colab 버리고 로컬 컴 쓰는게 나을것 같다."
      ],
      "metadata": {
        "id": "BxkW7rx8Olw4"
      }
    },
    {
      "cell_type": "code",
      "source": [
        "# 아무 코드도 안넣었더니 너무 비어 보여서 넣은 매우 쓸모없고 쓸모없는 코드\n",
        "import random\n",
        "num = random.randint(1,10)\n",
        "cnt = 0\n",
        "while True:\n",
        "    cnt += 1\n",
        "    usr = int(input('정답은 1~10중에 있습니다! 맞춰보세요\\n정답은? : '))\n",
        "    if usr == num:\n",
        "        print('정답입니다!')\n",
        "        break\n",
        "    else:\n",
        "        print(\"오답입니다.\")\n",
        "        print(\"*\"*40)\n",
        "        \n",
        "    if cnt == 5:\n",
        "        print('5회 초과, 정답은 %d 입니다'%num)\n",
        "        break"
      ],
      "metadata": {
        "colab": {
          "base_uri": "https://localhost:8080/"
        },
        "id": "LagewpiOWfEl",
        "outputId": "ecd1eedc-da01-4def-d808-b7744132dbcf"
      },
      "execution_count": null,
      "outputs": [
        {
          "output_type": "stream",
          "name": "stdout",
          "text": [
            "정답은 1~10중에 있습니다! 맞춰보세요\n",
            "정답은? : 8\n",
            "오답입니다.\n",
            "****************************************\n",
            "정답은 1~10중에 있습니다! 맞춰보세요\n",
            "정답은? : 3\n",
            "오답입니다.\n",
            "****************************************\n",
            "정답은 1~10중에 있습니다! 맞춰보세요\n",
            "정답은? : 5\n",
            "오답입니다.\n",
            "****************************************\n",
            "정답은 1~10중에 있습니다! 맞춰보세요\n",
            "정답은? : 4\n",
            "오답입니다.\n",
            "****************************************\n",
            "정답은 1~10중에 있습니다! 맞춰보세요\n",
            "정답은? : 1\n",
            "오답입니다.\n",
            "****************************************\n",
            "5회 초과, 정답은 2 입니다\n"
          ]
        }
      ]
    },
    {
      "cell_type": "markdown",
      "source": [
        "## **해결법 3 : 셀레니움이 아닌 다른 라이브러리를 사용한다.** \n",
        "\n",
        "1. 간단히 크롤링 하고 저장\n",
        "\n",
        "*실행중 뜨는 오류는 가져올수 없는 몇몇 이미지로 인한것이니 크게 신경쓰지 않으셔도 됩니다.*  \n",
        "*띄어쓰기 감지는 시간상 패스한 관계로 키워드 쓸때 띄어쓰기 하지 마세요*"
      ],
      "metadata": {
        "id": "dPcL_0e1hXad"
      }
    },
    {
      "cell_type": "code",
      "source": [
        "# 해결법 3 : 셀레니움이 아닌 다른 라이브러리를 사용한다.\n",
        "\n",
        "IC_keyword = input('검색어를 입력하세요 : ') # 키워드 설정 \n",
        "os.makedirs(\"IC_Crawling\", exist_ok=True) # 파일 초기 생성\n",
        "shutil.rmtree(\"IC_Crawling\") # 파일 초기화\n",
        "os.makedirs(\"IC_Crawling\", exist_ok=True) # 파일 재생성\n",
        "root = Path.cwd()/\"IC_Crawling\" # 위치 선언\n",
        "\n",
        "google_crawler = GoogleImageCrawler(downloader_threads=4, storage={'root_dir': '/content/IC_Crawling'}) # 크롤러 선언 \n",
        "google_crawler.session.verify = True # https 보안연결 (선택)\n",
        "parameters = dict( size = 'medium', color = 'color', type = 'photo' ) # 파라미터 선언\n",
        "google_crawler.crawl(IC_keyword, filters=parameters, max_num=100, file_idx_offset='auto') # 크롤러 실행\n",
        "\n",
        "ZIP_NAME = IC_keyword # 압축파일 이름 선언\n",
        "!rm -f {ZIP_NAME} # 압축파일 초기화\n",
        "!zip -q -r {ZIP_NAME} {root} # 압축파일 생성\n",
        "cls() # 콘솔 초기화 (선택)\n",
        "\n",
        "files.download(f'{IC_keyword}.zip') # 로컬에 다운로드 (선택)"
      ],
      "metadata": {
        "colab": {
          "base_uri": "https://localhost:8080/",
          "height": 17
        },
        "id": "Q1-e0aWKhfao",
        "outputId": "18c78ffa-89f9-4776-a485-bab97ccf473f"
      },
      "execution_count": null,
      "outputs": [
        {
          "output_type": "display_data",
          "data": {
            "text/plain": [
              "<IPython.core.display.Javascript object>"
            ],
            "application/javascript": [
              "\n",
              "    async function download(id, filename, size) {\n",
              "      if (!google.colab.kernel.accessAllowed) {\n",
              "        return;\n",
              "      }\n",
              "      const div = document.createElement('div');\n",
              "      const label = document.createElement('label');\n",
              "      label.textContent = `Downloading \"${filename}\": `;\n",
              "      div.appendChild(label);\n",
              "      const progress = document.createElement('progress');\n",
              "      progress.max = size;\n",
              "      div.appendChild(progress);\n",
              "      document.body.appendChild(div);\n",
              "\n",
              "      const buffers = [];\n",
              "      let downloaded = 0;\n",
              "\n",
              "      const channel = await google.colab.kernel.comms.open(id);\n",
              "      // Send a message to notify the kernel that we're ready.\n",
              "      channel.send({})\n",
              "\n",
              "      for await (const message of channel.messages) {\n",
              "        // Send a message to notify the kernel that we're ready.\n",
              "        channel.send({})\n",
              "        if (message.buffers) {\n",
              "          for (const buffer of message.buffers) {\n",
              "            buffers.push(buffer);\n",
              "            downloaded += buffer.byteLength;\n",
              "            progress.value = downloaded;\n",
              "          }\n",
              "        }\n",
              "      }\n",
              "      const blob = new Blob(buffers, {type: 'application/binary'});\n",
              "      const a = document.createElement('a');\n",
              "      a.href = window.URL.createObjectURL(blob);\n",
              "      a.download = filename;\n",
              "      div.appendChild(a);\n",
              "      a.click();\n",
              "      div.remove();\n",
              "    }\n",
              "  "
            ]
          },
          "metadata": {}
        },
        {
          "output_type": "display_data",
          "data": {
            "text/plain": [
              "<IPython.core.display.Javascript object>"
            ],
            "application/javascript": [
              "download(\"download_d7e0478e-0bc4-4517-adfa-384124055a2e\", \"water.zip\", 10436473)"
            ]
          },
          "metadata": {}
        }
      ]
    }
  ]
}